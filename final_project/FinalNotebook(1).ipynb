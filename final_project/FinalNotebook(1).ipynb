{
 "cells": [
  {
   "cell_type": "code",
   "execution_count": 60,
   "id": "9b36072a-88c7-48cb-991d-2fd0861e638d",
   "metadata": {},
   "outputs": [],
   "source": [
    "import pandas as pd\n",
    "import sys\n",
    "import sklearn.neighbors._base\n",
    "sys.modules['sklearn.neighbors.base'] = sklearn.neighbors._base\n",
    "import numpy as np\n",
    "import re\n",
    "import pandas as pd\n",
    "from missingpy import MissForest\n",
    "\n",
    "houseData = pd.read_csv(r'C:\\Users\\VAIO\\Documents\\houseData.csv')\n",
    "#houseData"
   ]
  },
  {
   "cell_type": "code",
   "execution_count": 40,
   "id": "323340f1",
   "metadata": {},
   "outputs": [
    {
     "name": "stdout",
     "output_type": "stream",
     "text": [
      "<class 'pandas.core.frame.DataFrame'>\n",
      "RangeIndex: 2230 entries, 0 to 2229\n",
      "Data columns (total 26 columns):\n",
      " #   Column                         Non-Null Count  Dtype  \n",
      "---  ------                         --------------  -----  \n",
      " 0   num_half_bathrooms             172 non-null    float64\n",
      " 1   total_taxes                    584 non-null    object \n",
      " 2   walk_score                     2230 non-null   int64  \n",
      " 3   listing_price_to_nearest_1000  1696 non-null   object \n",
      " 4   sq_footage                     1020 non-null   float64\n",
      " 5   sale_price                     528 non-null    object \n",
      " 6   pct_tax_deductibl              476 non-null    float64\n",
      " 7   parking_charges                559 non-null    object \n",
      " 8   num_total_rooms                2228 non-null   float64\n",
      " 9   num_full_bathrooms             2230 non-null   int64  \n",
      " 10  num_floors_in_building         1580 non-null   float64\n",
      " 11  num_bedrooms                   2115 non-null   float64\n",
      " 12  model_type                     2151 non-null   object \n",
      " 13  maintenance_cost               1607 non-null   object \n",
      " 14  kitchen_type                   2214 non-null   object \n",
      " 15  garage_exists                  404 non-null    object \n",
      " 16  full_address_or_zip_code       2230 non-null   object \n",
      " 17  fuel_type                      2118 non-null   object \n",
      " 18  dogs_allowed                   2230 non-null   object \n",
      " 19  dining_room_type               1782 non-null   object \n",
      " 20  date_of_sale                   528 non-null    object \n",
      " 21  coop_condo                     2230 non-null   object \n",
      " 22  community_district_num         2211 non-null   float64\n",
      " 23  common_charges                 546 non-null    object \n",
      " 24  cats_allowed                   2230 non-null   object \n",
      " 25  approx_year_built              2190 non-null   float64\n",
      "dtypes: float64(8), int64(2), object(16)\n",
      "memory usage: 453.1+ KB\n"
     ]
    }
   ],
   "source": []
  },
  {
   "cell_type": "code",
   "execution_count": 62,
   "id": "d9ac42af-9bc4-4cbf-9be3-46277c63ebff",
   "metadata": {},
   "outputs": [],
   "source": [
    "# Before combining costs to get a more comprehensive feature, lets record missingness\n",
    "for x in houseData.index:\n",
    "    if pd.isnull(houseData.loc[x, 'total_taxes'] ):\n",
    "        houseData.loc[x, 'Missing_taxes'] = 1\n",
    "    else:\n",
    "        houseData.loc[x, 'Missing_taxes'] = 0\n",
    "        \n",
    "    if pd.isnull(houseData.loc[x, 'maintenance_cost'] ):\n",
    "        houseData.loc[x, 'Missing_maintenance_cost'] = 1\n",
    "    else:\n",
    "        houseData.loc[x, 'Missing_maintenance_cost'] = 0\n",
    "        \n",
    "    if pd.isnull(houseData.loc[x, 'common_charges'] ):\n",
    "        houseData.loc[x, 'Missing_common_charges'] = 1\n",
    "    else:\n",
    "        houseData.loc[x, 'Missing_common_charges'] = 0\n",
    "\n",
    "    if pd.isnull(houseData.loc[x, 'parking_charges'] ):\n",
    "        houseData.loc[x, 'Missing_parking_charges'] = 1\n",
    "    else:\n",
    "        houseData.loc[x, 'Missing_parking_charges'] = 0\n",
    "\n",
    "\n"
   ]
  },
  {
   "cell_type": "code",
   "execution_count": 63,
   "id": "3dcb5ae3-9098-4c3f-8582-c3f6043ae407",
   "metadata": {},
   "outputs": [],
   "source": [
    "#get rid of dollar signs and commas\n",
    "#combine maintenence cost, park charge, common charge, tot taxes\n",
    "houseData['sale_price'] = houseData['sale_price'].replace({'\\$': '', ',': ''}, regex=True)\n",
    "houseData['sale_price_$'] = houseData['sale_price']\n",
    "\n",
    "houseData[['total_taxes',\n",
    "           'maintenance_cost',\n",
    "           'common_charges',\n",
    "           'parking_charges' ,\n",
    "           'listing_price_to_nearest_1000'\n",
    "          ]\n",
    "         ] = houseData[['total_taxes',\n",
    "                        'maintenance_cost',\n",
    "                        'common_charges',\n",
    "                        'parking_charges' ,\n",
    "                        'listing_price_to_nearest_1000'\n",
    "                       ]\n",
    "                      ].replace({'\\$': '', ',': ''}, regex=True)\n",
    "\n",
    "houseData[['parking_charges',\n",
    "           'total_taxes',\n",
    "           'maintenance_cost',\n",
    "           'common_charges',\n",
    "           'num_half_bathrooms',\n",
    "           'garage_exists'\n",
    "          ]\n",
    "         ] = houseData[['parking_charges',\n",
    "                        'total_taxes',\n",
    "                        'maintenance_cost',\n",
    "                        'common_charges',\n",
    "                        'num_half_bathrooms',\n",
    "                        'garage_exists'\n",
    "                       ]\n",
    "                      ].fillna(0)\n",
    "\n",
    "for x in houseData.index:\n",
    "    houseData.loc[x,\"additional_costs_$\"] = (int(houseData.loc[x,\"parking_charges\"]) +\n",
    "                                             int(houseData.loc[x,\"total_taxes\"]) +\n",
    "                                             int(houseData.loc[x,'maintenance_cost']) +\n",
    "                                             int(houseData.loc[x,'common_charges'])\n",
    "                                            )\n"
   ]
  },
  {
   "cell_type": "code",
   "execution_count": 64,
   "id": "0e26b51c-5120-4b14-9c3f-89efc39b446c",
   "metadata": {},
   "outputs": [],
   "source": [
    "#drop the features with the dollar signs that have now been removed and combined into one costs feature.\n",
    "houseData.drop(['total_taxes',\n",
    "                'sale_price',\n",
    "                \"parking_charges\",\n",
    "                'maintenance_cost',\n",
    "                'common_charges'\n",
    "               ], inplace = True, axis = 1)\n"
   ]
  },
  {
   "cell_type": "code",
   "execution_count": 65,
   "id": "00aba650-c5f9-4da9-9c8f-1c3383fe1c16",
   "metadata": {},
   "outputs": [],
   "source": [
    "#Clean up the categorical features\n",
    "for x in houseData.index:\n",
    "    # kitchen type has a ton of typos\n",
    "    if houseData.loc[x, \"kitchen_type\"] == \"Eat In\":\n",
    "        houseData.loc[x, \"kitchen_type\"] = \"eat in\"\n",
    "    if houseData.loc[x, \"kitchen_type\"] == \"eatin\":\n",
    "        houseData.loc[x, \"kitchen_type\"] = \"eat in\"\n",
    "    if houseData.loc[x, \"kitchen_type\"] == \"Eat in\":\n",
    "        houseData.loc[x, \"kitchen_type\"] = \"eat in\"\n",
    "    if houseData.loc[x, \"kitchen_type\"] == \"Combo\":\n",
    "        houseData.loc[x, \"kitchen_type\"] = \"combo\"\n",
    "    if houseData.loc[x, \"kitchen_type\"] == \"1955\":\n",
    "        houseData.loc[x, \"kitchen_type\"] = \"none\"\n",
    "    if houseData.loc[x, \"kitchen_type\"] == \"efficiency kitchen\":\n",
    "        houseData.loc[x, \"kitchen_type\"] = \"efficiency\"\n",
    "    if houseData.loc[x, \"kitchen_type\"] == \"efficiency kitchene\":\n",
    "        houseData.loc[x, \"kitchen_type\"] = \"efficiency\"\n",
    "    if houseData.loc[x, \"kitchen_type\"] == \"efficiency ktchen\":\n",
    "        houseData.loc[x, \"kitchen_type\"] = \"efficiency\"\n",
    "    if houseData.loc[x, \"kitchen_type\"] == \"efficiemcy\":\n",
    "        houseData.loc[x, \"kitchen_type\"] = \"efficiency\"\n",
    "    # fuel type needs 'Other' - 'other'\n",
    "    if houseData.loc[x, \"fuel_type\"] == \"Other\":\n",
    "        houseData.loc[x, \"fuel_type\"] = \"other\"\n",
    "    #garage exists needs 'Yes' - 'yes'\n",
    "    #'Underground' - 'yes'      \n",
    "    # 'UG' - 'yes'       \n",
    "    # '1' - 'yes'\n",
    "    # 'eys' - 'yes'   \n",
    "    if houseData.loc[x, \"garage_exists\"] == \"Yes\":\n",
    "        houseData.loc[x, \"garage_exists\"] = \"1\"\n",
    "    if houseData.loc[x, \"garage_exists\"] == 'Underground':\n",
    "        houseData.loc[x, \"garage_exists\"] = \"1\"\n",
    "    if houseData.loc[x, \"garage_exists\"] == 'UG':\n",
    "        houseData.loc[x, \"garage_exists\"] = \"1\"\n",
    "    if houseData.loc[x, \"garage_exists\"] == 'eys':\n",
    "        houseData.loc[x, \"garage_exists\"] = \"1\"\n",
    "    if houseData.loc[x, \"garage_exists\"] == '1':\n",
    "        houseData.loc[x, \"garage_exists\"] = \"1\"\n",
    "    if houseData.loc[x, \"garage_exists\"] == 'yes':\n",
    "        houseData.loc[x, \"garage_exists\"] = \"1\"\n",
    "    #dogs needs 'yes89' -'yes\n",
    "    if houseData.loc[x, \"dogs_allowed\"] == \"yes89\":\n",
    "        houseData.loc[x, \"dogs_allowed\"] = \"1\"\n",
    "    if houseData.loc[x, \"dogs_allowed\"] == \"yes\":\n",
    "        houseData.loc[x, \"dogs_allowed\"] = \"1\"\n",
    "    if houseData.loc[x, \"dogs_allowed\"] == \"no\":\n",
    "        houseData.loc[x, \"dogs_allowed\"] = \"0\"\n",
    "    #cats needs 'y' - 'yes'\n",
    "    if houseData.loc[x, \"cats_allowed\"] == \"y\":\n",
    "        houseData.loc[x, \"cats_allowed\"] = \"1\"\n",
    "    if houseData.loc[x, \"cats_allowed\"] == \"yes\":\n",
    "        houseData.loc[x, \"cats_allowed\"] = \"1\"\n",
    "    if houseData.loc[x, \"cats_allowed\"] == \"no\":\n",
    "        houseData.loc[x, \"cats_allowed\"] = \"0\"\n"
   ]
  },
  {
   "cell_type": "code",
   "execution_count": 66,
   "id": "0a6b8691-ffcd-467a-999c-1b74e50dc46f",
   "metadata": {},
   "outputs": [],
   "source": [
    "# can't figure out a great way to use full address\n",
    "houseData['zip_code'] = houseData['full_address_or_zip_code'].str.extract(r'(\\d{5}\\-?\\d{0,4})')"
   ]
  },
  {
   "cell_type": "code",
   "execution_count": 67,
   "id": "394935eb-3125-444d-9c91-7b85206e0ba2",
   "metadata": {},
   "outputs": [
    {
     "name": "stderr",
     "output_type": "stream",
     "text": [
      "C:\\Users\\VAIO\\anaconda3\\lib\\site-packages\\sklearn\\ensemble\\_forest.py:427: FutureWarning: `max_features='auto'` has been deprecated in 1.1 and will be removed in 1.3. To keep the past behaviour, explicitly set `max_features='sqrt'` or remove this parameter as it is also the default value for RandomForestClassifiers and ExtraTreesClassifiers.\n",
      "  warn(\n",
      "C:\\Users\\VAIO\\anaconda3\\lib\\site-packages\\sklearn\\ensemble\\_forest.py:427: FutureWarning: `max_features='auto'` has been deprecated in 1.1 and will be removed in 1.3. To keep the past behaviour, explicitly set `max_features='sqrt'` or remove this parameter as it is also the default value for RandomForestClassifiers and ExtraTreesClassifiers.\n",
      "  warn(\n",
      "C:\\Users\\VAIO\\anaconda3\\lib\\site-packages\\sklearn\\ensemble\\_forest.py:427: FutureWarning: `max_features='auto'` has been deprecated in 1.1 and will be removed in 1.3. To keep the past behaviour, explicitly set `max_features='sqrt'` or remove this parameter as it is also the default value for RandomForestClassifiers and ExtraTreesClassifiers.\n",
      "  warn(\n",
      "C:\\Users\\VAIO\\anaconda3\\lib\\site-packages\\sklearn\\ensemble\\_forest.py:427: FutureWarning: `max_features='auto'` has been deprecated in 1.1 and will be removed in 1.3. To keep the past behaviour, explicitly set `max_features='sqrt'` or remove this parameter as it is also the default value for RandomForestClassifiers and ExtraTreesClassifiers.\n",
      "  warn(\n",
      "C:\\Users\\VAIO\\anaconda3\\lib\\site-packages\\sklearn\\ensemble\\_forest.py:427: FutureWarning: `max_features='auto'` has been deprecated in 1.1 and will be removed in 1.3. To keep the past behaviour, explicitly set `max_features='sqrt'` or remove this parameter as it is also the default value for RandomForestClassifiers and ExtraTreesClassifiers.\n",
      "  warn(\n",
      "C:\\Users\\VAIO\\anaconda3\\lib\\site-packages\\sklearn\\ensemble\\_forest.py:427: FutureWarning: `max_features='auto'` has been deprecated in 1.1 and will be removed in 1.3. To keep the past behaviour, explicitly set `max_features='sqrt'` or remove this parameter as it is also the default value for RandomForestClassifiers and ExtraTreesClassifiers.\n",
      "  warn(\n",
      "C:\\Users\\VAIO\\anaconda3\\lib\\site-packages\\sklearn\\ensemble\\_forest.py:427: FutureWarning: `max_features='auto'` has been deprecated in 1.1 and will be removed in 1.3. To keep the past behaviour, explicitly set `max_features='sqrt'` or remove this parameter as it is also the default value for RandomForestClassifiers and ExtraTreesClassifiers.\n",
      "  warn(\n",
      "C:\\Users\\VAIO\\anaconda3\\lib\\site-packages\\sklearn\\ensemble\\_forest.py:427: FutureWarning: `max_features='auto'` has been deprecated in 1.1 and will be removed in 1.3. To keep the past behaviour, explicitly set `max_features='sqrt'` or remove this parameter as it is also the default value for RandomForestClassifiers and ExtraTreesClassifiers.\n",
      "  warn(\n"
     ]
    },
    {
     "name": "stdout",
     "output_type": "stream",
     "text": [
      "Iteration: 0\n"
     ]
    },
    {
     "name": "stderr",
     "output_type": "stream",
     "text": [
      "C:\\Users\\VAIO\\anaconda3\\lib\\site-packages\\sklearn\\ensemble\\_forest.py:427: FutureWarning: `max_features='auto'` has been deprecated in 1.1 and will be removed in 1.3. To keep the past behaviour, explicitly set `max_features='sqrt'` or remove this parameter as it is also the default value for RandomForestClassifiers and ExtraTreesClassifiers.\n",
      "  warn(\n",
      "C:\\Users\\VAIO\\anaconda3\\lib\\site-packages\\sklearn\\ensemble\\_forest.py:427: FutureWarning: `max_features='auto'` has been deprecated in 1.1 and will be removed in 1.3. To keep the past behaviour, explicitly set `max_features='sqrt'` or remove this parameter as it is also the default value for RandomForestClassifiers and ExtraTreesClassifiers.\n",
      "  warn(\n",
      "C:\\Users\\VAIO\\anaconda3\\lib\\site-packages\\sklearn\\ensemble\\_forest.py:427: FutureWarning: `max_features='auto'` has been deprecated in 1.1 and will be removed in 1.3. To keep the past behaviour, explicitly set `max_features='sqrt'` or remove this parameter as it is also the default value for RandomForestClassifiers and ExtraTreesClassifiers.\n",
      "  warn(\n",
      "C:\\Users\\VAIO\\anaconda3\\lib\\site-packages\\sklearn\\ensemble\\_forest.py:427: FutureWarning: `max_features='auto'` has been deprecated in 1.1 and will be removed in 1.3. To keep the past behaviour, explicitly set `max_features='sqrt'` or remove this parameter as it is also the default value for RandomForestClassifiers and ExtraTreesClassifiers.\n",
      "  warn(\n",
      "C:\\Users\\VAIO\\anaconda3\\lib\\site-packages\\sklearn\\ensemble\\_forest.py:427: FutureWarning: `max_features='auto'` has been deprecated in 1.1 and will be removed in 1.3. To keep the past behaviour, explicitly set `max_features='sqrt'` or remove this parameter as it is also the default value for RandomForestClassifiers and ExtraTreesClassifiers.\n",
      "  warn(\n",
      "C:\\Users\\VAIO\\anaconda3\\lib\\site-packages\\sklearn\\ensemble\\_forest.py:427: FutureWarning: `max_features='auto'` has been deprecated in 1.1 and will be removed in 1.3. To keep the past behaviour, explicitly set `max_features='sqrt'` or remove this parameter as it is also the default value for RandomForestClassifiers and ExtraTreesClassifiers.\n",
      "  warn(\n",
      "C:\\Users\\VAIO\\anaconda3\\lib\\site-packages\\sklearn\\ensemble\\_forest.py:427: FutureWarning: `max_features='auto'` has been deprecated in 1.1 and will be removed in 1.3. To keep the past behaviour, explicitly set `max_features='sqrt'` or remove this parameter as it is also the default value for RandomForestClassifiers and ExtraTreesClassifiers.\n",
      "  warn(\n",
      "C:\\Users\\VAIO\\anaconda3\\lib\\site-packages\\sklearn\\ensemble\\_forest.py:427: FutureWarning: `max_features='auto'` has been deprecated in 1.1 and will be removed in 1.3. To keep the past behaviour, explicitly set `max_features='sqrt'` or remove this parameter as it is also the default value for RandomForestClassifiers and ExtraTreesClassifiers.\n",
      "  warn(\n"
     ]
    },
    {
     "name": "stdout",
     "output_type": "stream",
     "text": [
      "Iteration: 1\n"
     ]
    },
    {
     "name": "stderr",
     "output_type": "stream",
     "text": [
      "C:\\Users\\VAIO\\anaconda3\\lib\\site-packages\\sklearn\\ensemble\\_forest.py:427: FutureWarning: `max_features='auto'` has been deprecated in 1.1 and will be removed in 1.3. To keep the past behaviour, explicitly set `max_features='sqrt'` or remove this parameter as it is also the default value for RandomForestClassifiers and ExtraTreesClassifiers.\n",
      "  warn(\n",
      "C:\\Users\\VAIO\\anaconda3\\lib\\site-packages\\sklearn\\ensemble\\_forest.py:427: FutureWarning: `max_features='auto'` has been deprecated in 1.1 and will be removed in 1.3. To keep the past behaviour, explicitly set `max_features='sqrt'` or remove this parameter as it is also the default value for RandomForestClassifiers and ExtraTreesClassifiers.\n",
      "  warn(\n",
      "C:\\Users\\VAIO\\anaconda3\\lib\\site-packages\\sklearn\\ensemble\\_forest.py:427: FutureWarning: `max_features='auto'` has been deprecated in 1.1 and will be removed in 1.3. To keep the past behaviour, explicitly set `max_features='sqrt'` or remove this parameter as it is also the default value for RandomForestClassifiers and ExtraTreesClassifiers.\n",
      "  warn(\n",
      "C:\\Users\\VAIO\\anaconda3\\lib\\site-packages\\sklearn\\ensemble\\_forest.py:427: FutureWarning: `max_features='auto'` has been deprecated in 1.1 and will be removed in 1.3. To keep the past behaviour, explicitly set `max_features='sqrt'` or remove this parameter as it is also the default value for RandomForestClassifiers and ExtraTreesClassifiers.\n",
      "  warn(\n",
      "C:\\Users\\VAIO\\anaconda3\\lib\\site-packages\\sklearn\\ensemble\\_forest.py:427: FutureWarning: `max_features='auto'` has been deprecated in 1.1 and will be removed in 1.3. To keep the past behaviour, explicitly set `max_features='sqrt'` or remove this parameter as it is also the default value for RandomForestClassifiers and ExtraTreesClassifiers.\n",
      "  warn(\n",
      "C:\\Users\\VAIO\\anaconda3\\lib\\site-packages\\sklearn\\ensemble\\_forest.py:427: FutureWarning: `max_features='auto'` has been deprecated in 1.1 and will be removed in 1.3. To keep the past behaviour, explicitly set `max_features='sqrt'` or remove this parameter as it is also the default value for RandomForestClassifiers and ExtraTreesClassifiers.\n",
      "  warn(\n",
      "C:\\Users\\VAIO\\anaconda3\\lib\\site-packages\\sklearn\\ensemble\\_forest.py:427: FutureWarning: `max_features='auto'` has been deprecated in 1.1 and will be removed in 1.3. To keep the past behaviour, explicitly set `max_features='sqrt'` or remove this parameter as it is also the default value for RandomForestClassifiers and ExtraTreesClassifiers.\n",
      "  warn(\n",
      "C:\\Users\\VAIO\\anaconda3\\lib\\site-packages\\sklearn\\ensemble\\_forest.py:427: FutureWarning: `max_features='auto'` has been deprecated in 1.1 and will be removed in 1.3. To keep the past behaviour, explicitly set `max_features='sqrt'` or remove this parameter as it is also the default value for RandomForestClassifiers and ExtraTreesClassifiers.\n",
      "  warn(\n"
     ]
    },
    {
     "name": "stdout",
     "output_type": "stream",
     "text": [
      "Iteration: 2\n"
     ]
    },
    {
     "name": "stderr",
     "output_type": "stream",
     "text": [
      "C:\\Users\\VAIO\\anaconda3\\lib\\site-packages\\sklearn\\ensemble\\_forest.py:427: FutureWarning: `max_features='auto'` has been deprecated in 1.1 and will be removed in 1.3. To keep the past behaviour, explicitly set `max_features='sqrt'` or remove this parameter as it is also the default value for RandomForestClassifiers and ExtraTreesClassifiers.\n",
      "  warn(\n",
      "C:\\Users\\VAIO\\anaconda3\\lib\\site-packages\\sklearn\\ensemble\\_forest.py:427: FutureWarning: `max_features='auto'` has been deprecated in 1.1 and will be removed in 1.3. To keep the past behaviour, explicitly set `max_features='sqrt'` or remove this parameter as it is also the default value for RandomForestClassifiers and ExtraTreesClassifiers.\n",
      "  warn(\n",
      "C:\\Users\\VAIO\\anaconda3\\lib\\site-packages\\sklearn\\ensemble\\_forest.py:427: FutureWarning: `max_features='auto'` has been deprecated in 1.1 and will be removed in 1.3. To keep the past behaviour, explicitly set `max_features='sqrt'` or remove this parameter as it is also the default value for RandomForestClassifiers and ExtraTreesClassifiers.\n",
      "  warn(\n",
      "C:\\Users\\VAIO\\anaconda3\\lib\\site-packages\\sklearn\\ensemble\\_forest.py:427: FutureWarning: `max_features='auto'` has been deprecated in 1.1 and will be removed in 1.3. To keep the past behaviour, explicitly set `max_features='sqrt'` or remove this parameter as it is also the default value for RandomForestClassifiers and ExtraTreesClassifiers.\n",
      "  warn(\n",
      "C:\\Users\\VAIO\\anaconda3\\lib\\site-packages\\sklearn\\ensemble\\_forest.py:427: FutureWarning: `max_features='auto'` has been deprecated in 1.1 and will be removed in 1.3. To keep the past behaviour, explicitly set `max_features='sqrt'` or remove this parameter as it is also the default value for RandomForestClassifiers and ExtraTreesClassifiers.\n",
      "  warn(\n",
      "C:\\Users\\VAIO\\anaconda3\\lib\\site-packages\\sklearn\\ensemble\\_forest.py:427: FutureWarning: `max_features='auto'` has been deprecated in 1.1 and will be removed in 1.3. To keep the past behaviour, explicitly set `max_features='sqrt'` or remove this parameter as it is also the default value for RandomForestClassifiers and ExtraTreesClassifiers.\n",
      "  warn(\n",
      "C:\\Users\\VAIO\\anaconda3\\lib\\site-packages\\sklearn\\ensemble\\_forest.py:427: FutureWarning: `max_features='auto'` has been deprecated in 1.1 and will be removed in 1.3. To keep the past behaviour, explicitly set `max_features='sqrt'` or remove this parameter as it is also the default value for RandomForestClassifiers and ExtraTreesClassifiers.\n",
      "  warn(\n",
      "C:\\Users\\VAIO\\anaconda3\\lib\\site-packages\\sklearn\\ensemble\\_forest.py:427: FutureWarning: `max_features='auto'` has been deprecated in 1.1 and will be removed in 1.3. To keep the past behaviour, explicitly set `max_features='sqrt'` or remove this parameter as it is also the default value for RandomForestClassifiers and ExtraTreesClassifiers.\n",
      "  warn(\n"
     ]
    },
    {
     "name": "stdout",
     "output_type": "stream",
     "text": [
      "Iteration: 3\n"
     ]
    }
   ],
   "source": [
    "\n",
    "\n",
    "import sklearn.neighbors._base\n",
    "from sklearn.preprocessing import LabelEncoder\n",
    "import sys\n",
    "sys.modules['sklearn.neighbors.base'] = sklearn.neighbors._base\n",
    "from missingpy import MissForest\n",
    "\n",
    "#how to impute categorical features with missingpy's MissForest https://stackoverflow.com/a/68745886\n",
    "\n",
    "def label_encoding(df, columns):\n",
    "    encoders = dict()\n",
    "    for col_name in columns:\n",
    "        series = df[col_name]\n",
    "        label_encoder = LabelEncoder()\n",
    "        df[col_name] = pd.Series(\n",
    "            label_encoder.fit_transform(series[series.notnull()]),\n",
    "            index=series[series.notnull()].index\n",
    "        )\n",
    "        encoders[col_name] = label_encoder\n",
    "    return encoders\n",
    "\n",
    "# adding to be imputed global category along with features\n",
    "features = ['num_half_bathrooms',\n",
    "            'num_total_rooms',\n",
    "            'num_full_bathrooms',\n",
    "            'num_floors_in_building',\n",
    "            'num_bedrooms',\n",
    "            'kitchen_type',\n",
    "            'full_address_or_zip_code',\n",
    "            'fuel_type',\n",
    "            'dining_room_type',\n",
    "            'date_of_sale',\n",
    "            'coop_condo',\n",
    "            'community_district_num'\n",
    "           ]\n",
    "# label encoding features\n",
    "encoders = label_encoding(houseData, features)\n",
    "# categorical imputation using random forest \n",
    "# parameters can be tuned accordingly\n",
    "imp_cat = MissForest(criterion = \"gini\")\n",
    "houseData[features] = imp_cat.fit_transform(houseData[features], cat_vars=[0,1,2,3,4,5,6,7,8,9,10,11])\n",
    "\n"
   ]
  },
  {
   "cell_type": "code",
   "execution_count": 68,
   "id": "99e2bbd1-8c22-4773-be7a-67e5613e1ada",
   "metadata": {},
   "outputs": [
    {
     "name": "stdout",
     "output_type": "stream",
     "text": [
      "<class 'pandas.core.frame.DataFrame'>\n",
      "RangeIndex: 2230 entries, 0 to 2229\n",
      "Data columns (total 28 columns):\n",
      " #   Column                         Non-Null Count  Dtype  \n",
      "---  ------                         --------------  -----  \n",
      " 0   num_half_bathrooms             2230 non-null   float64\n",
      " 1   walk_score                     2230 non-null   int64  \n",
      " 2   listing_price_to_nearest_1000  1696 non-null   object \n",
      " 3   sq_footage                     1020 non-null   float64\n",
      " 4   pct_tax_deductibl              476 non-null    float64\n",
      " 5   num_total_rooms                2230 non-null   float64\n",
      " 6   num_full_bathrooms             2230 non-null   float64\n",
      " 7   num_floors_in_building         2230 non-null   float64\n",
      " 8   num_bedrooms                   2230 non-null   float64\n",
      " 9   model_type                     2151 non-null   object \n",
      " 10  kitchen_type                   2230 non-null   float64\n",
      " 11  garage_exists                  2230 non-null   object \n",
      " 12  full_address_or_zip_code       2230 non-null   float64\n",
      " 13  fuel_type                      2230 non-null   float64\n",
      " 14  dogs_allowed                   2230 non-null   object \n",
      " 15  dining_room_type               2230 non-null   float64\n",
      " 16  date_of_sale                   2230 non-null   float64\n",
      " 17  coop_condo                     2230 non-null   float64\n",
      " 18  community_district_num         2230 non-null   float64\n",
      " 19  cats_allowed                   2230 non-null   object \n",
      " 20  approx_year_built              2190 non-null   float64\n",
      " 21  Missing_taxes                  2230 non-null   float64\n",
      " 22  Missing_maintenance_cost       2230 non-null   float64\n",
      " 23  Missing_common_charges         2230 non-null   float64\n",
      " 24  Missing_parking_charges        2230 non-null   float64\n",
      " 25  sale_price_$                   528 non-null    object \n",
      " 26  additional_costs_$             2230 non-null   float64\n",
      " 27  zip_code                       2215 non-null   object \n",
      "dtypes: float64(20), int64(1), object(7)\n",
      "memory usage: 487.9+ KB\n"
     ]
    }
   ],
   "source": [
    "pd.set_option('max_columns', None)\n",
    "pd.set_option(\"max_rows\", None)\n",
    "houseData.info()"
   ]
  },
  {
   "cell_type": "code",
   "execution_count": 69,
   "id": "6e5aa8cc",
   "metadata": {},
   "outputs": [],
   "source": [
    "# Make an instance and perform the imputation\n",
    "imp_cont = MissForest()\n",
    "X = houseData.drop(['sale_price_$', 'model_type'], axis = 1) \n",
    "#X.info()"
   ]
  },
  {
   "cell_type": "code",
   "execution_count": 70,
   "id": "10d5421c",
   "metadata": {},
   "outputs": [
    {
     "name": "stderr",
     "output_type": "stream",
     "text": [
      "C:\\Users\\VAIO\\anaconda3\\lib\\site-packages\\sklearn\\ensemble\\_forest.py:400: FutureWarning: Criterion 'mse' was deprecated in v1.0 and will be removed in version 1.2. Use `criterion='squared_error'` which is equivalent.\n",
      "  warn(\n",
      "C:\\Users\\VAIO\\anaconda3\\lib\\site-packages\\sklearn\\ensemble\\_forest.py:416: FutureWarning: `max_features='auto'` has been deprecated in 1.1 and will be removed in 1.3. To keep the past behaviour, explicitly set `max_features=1.0` or remove this parameter as it is also the default value for RandomForestRegressors and ExtraTreesRegressors.\n",
      "  warn(\n",
      "C:\\Users\\VAIO\\anaconda3\\lib\\site-packages\\sklearn\\ensemble\\_forest.py:400: FutureWarning: Criterion 'mse' was deprecated in v1.0 and will be removed in version 1.2. Use `criterion='squared_error'` which is equivalent.\n",
      "  warn(\n",
      "C:\\Users\\VAIO\\anaconda3\\lib\\site-packages\\sklearn\\ensemble\\_forest.py:416: FutureWarning: `max_features='auto'` has been deprecated in 1.1 and will be removed in 1.3. To keep the past behaviour, explicitly set `max_features=1.0` or remove this parameter as it is also the default value for RandomForestRegressors and ExtraTreesRegressors.\n",
      "  warn(\n",
      "C:\\Users\\VAIO\\anaconda3\\lib\\site-packages\\sklearn\\ensemble\\_forest.py:400: FutureWarning: Criterion 'mse' was deprecated in v1.0 and will be removed in version 1.2. Use `criterion='squared_error'` which is equivalent.\n",
      "  warn(\n",
      "C:\\Users\\VAIO\\anaconda3\\lib\\site-packages\\sklearn\\ensemble\\_forest.py:416: FutureWarning: `max_features='auto'` has been deprecated in 1.1 and will be removed in 1.3. To keep the past behaviour, explicitly set `max_features=1.0` or remove this parameter as it is also the default value for RandomForestRegressors and ExtraTreesRegressors.\n",
      "  warn(\n",
      "C:\\Users\\VAIO\\anaconda3\\lib\\site-packages\\sklearn\\ensemble\\_forest.py:400: FutureWarning: Criterion 'mse' was deprecated in v1.0 and will be removed in version 1.2. Use `criterion='squared_error'` which is equivalent.\n",
      "  warn(\n",
      "C:\\Users\\VAIO\\anaconda3\\lib\\site-packages\\sklearn\\ensemble\\_forest.py:416: FutureWarning: `max_features='auto'` has been deprecated in 1.1 and will be removed in 1.3. To keep the past behaviour, explicitly set `max_features=1.0` or remove this parameter as it is also the default value for RandomForestRegressors and ExtraTreesRegressors.\n",
      "  warn(\n",
      "C:\\Users\\VAIO\\anaconda3\\lib\\site-packages\\sklearn\\ensemble\\_forest.py:400: FutureWarning: Criterion 'mse' was deprecated in v1.0 and will be removed in version 1.2. Use `criterion='squared_error'` which is equivalent.\n",
      "  warn(\n",
      "C:\\Users\\VAIO\\anaconda3\\lib\\site-packages\\sklearn\\ensemble\\_forest.py:416: FutureWarning: `max_features='auto'` has been deprecated in 1.1 and will be removed in 1.3. To keep the past behaviour, explicitly set `max_features=1.0` or remove this parameter as it is also the default value for RandomForestRegressors and ExtraTreesRegressors.\n",
      "  warn(\n"
     ]
    },
    {
     "name": "stdout",
     "output_type": "stream",
     "text": [
      "Iteration: 0\n"
     ]
    },
    {
     "name": "stderr",
     "output_type": "stream",
     "text": [
      "C:\\Users\\VAIO\\anaconda3\\lib\\site-packages\\sklearn\\ensemble\\_forest.py:400: FutureWarning: Criterion 'mse' was deprecated in v1.0 and will be removed in version 1.2. Use `criterion='squared_error'` which is equivalent.\n",
      "  warn(\n",
      "C:\\Users\\VAIO\\anaconda3\\lib\\site-packages\\sklearn\\ensemble\\_forest.py:416: FutureWarning: `max_features='auto'` has been deprecated in 1.1 and will be removed in 1.3. To keep the past behaviour, explicitly set `max_features=1.0` or remove this parameter as it is also the default value for RandomForestRegressors and ExtraTreesRegressors.\n",
      "  warn(\n",
      "C:\\Users\\VAIO\\anaconda3\\lib\\site-packages\\sklearn\\ensemble\\_forest.py:400: FutureWarning: Criterion 'mse' was deprecated in v1.0 and will be removed in version 1.2. Use `criterion='squared_error'` which is equivalent.\n",
      "  warn(\n",
      "C:\\Users\\VAIO\\anaconda3\\lib\\site-packages\\sklearn\\ensemble\\_forest.py:416: FutureWarning: `max_features='auto'` has been deprecated in 1.1 and will be removed in 1.3. To keep the past behaviour, explicitly set `max_features=1.0` or remove this parameter as it is also the default value for RandomForestRegressors and ExtraTreesRegressors.\n",
      "  warn(\n",
      "C:\\Users\\VAIO\\anaconda3\\lib\\site-packages\\sklearn\\ensemble\\_forest.py:400: FutureWarning: Criterion 'mse' was deprecated in v1.0 and will be removed in version 1.2. Use `criterion='squared_error'` which is equivalent.\n",
      "  warn(\n",
      "C:\\Users\\VAIO\\anaconda3\\lib\\site-packages\\sklearn\\ensemble\\_forest.py:416: FutureWarning: `max_features='auto'` has been deprecated in 1.1 and will be removed in 1.3. To keep the past behaviour, explicitly set `max_features=1.0` or remove this parameter as it is also the default value for RandomForestRegressors and ExtraTreesRegressors.\n",
      "  warn(\n",
      "C:\\Users\\VAIO\\anaconda3\\lib\\site-packages\\sklearn\\ensemble\\_forest.py:400: FutureWarning: Criterion 'mse' was deprecated in v1.0 and will be removed in version 1.2. Use `criterion='squared_error'` which is equivalent.\n",
      "  warn(\n",
      "C:\\Users\\VAIO\\anaconda3\\lib\\site-packages\\sklearn\\ensemble\\_forest.py:416: FutureWarning: `max_features='auto'` has been deprecated in 1.1 and will be removed in 1.3. To keep the past behaviour, explicitly set `max_features=1.0` or remove this parameter as it is also the default value for RandomForestRegressors and ExtraTreesRegressors.\n",
      "  warn(\n",
      "C:\\Users\\VAIO\\anaconda3\\lib\\site-packages\\sklearn\\ensemble\\_forest.py:400: FutureWarning: Criterion 'mse' was deprecated in v1.0 and will be removed in version 1.2. Use `criterion='squared_error'` which is equivalent.\n",
      "  warn(\n",
      "C:\\Users\\VAIO\\anaconda3\\lib\\site-packages\\sklearn\\ensemble\\_forest.py:416: FutureWarning: `max_features='auto'` has been deprecated in 1.1 and will be removed in 1.3. To keep the past behaviour, explicitly set `max_features=1.0` or remove this parameter as it is also the default value for RandomForestRegressors and ExtraTreesRegressors.\n",
      "  warn(\n"
     ]
    },
    {
     "name": "stdout",
     "output_type": "stream",
     "text": [
      "Iteration: 1\n"
     ]
    },
    {
     "name": "stderr",
     "output_type": "stream",
     "text": [
      "C:\\Users\\VAIO\\anaconda3\\lib\\site-packages\\sklearn\\ensemble\\_forest.py:400: FutureWarning: Criterion 'mse' was deprecated in v1.0 and will be removed in version 1.2. Use `criterion='squared_error'` which is equivalent.\n",
      "  warn(\n",
      "C:\\Users\\VAIO\\anaconda3\\lib\\site-packages\\sklearn\\ensemble\\_forest.py:416: FutureWarning: `max_features='auto'` has been deprecated in 1.1 and will be removed in 1.3. To keep the past behaviour, explicitly set `max_features=1.0` or remove this parameter as it is also the default value for RandomForestRegressors and ExtraTreesRegressors.\n",
      "  warn(\n",
      "C:\\Users\\VAIO\\anaconda3\\lib\\site-packages\\sklearn\\ensemble\\_forest.py:400: FutureWarning: Criterion 'mse' was deprecated in v1.0 and will be removed in version 1.2. Use `criterion='squared_error'` which is equivalent.\n",
      "  warn(\n",
      "C:\\Users\\VAIO\\anaconda3\\lib\\site-packages\\sklearn\\ensemble\\_forest.py:416: FutureWarning: `max_features='auto'` has been deprecated in 1.1 and will be removed in 1.3. To keep the past behaviour, explicitly set `max_features=1.0` or remove this parameter as it is also the default value for RandomForestRegressors and ExtraTreesRegressors.\n",
      "  warn(\n",
      "C:\\Users\\VAIO\\anaconda3\\lib\\site-packages\\sklearn\\ensemble\\_forest.py:400: FutureWarning: Criterion 'mse' was deprecated in v1.0 and will be removed in version 1.2. Use `criterion='squared_error'` which is equivalent.\n",
      "  warn(\n",
      "C:\\Users\\VAIO\\anaconda3\\lib\\site-packages\\sklearn\\ensemble\\_forest.py:416: FutureWarning: `max_features='auto'` has been deprecated in 1.1 and will be removed in 1.3. To keep the past behaviour, explicitly set `max_features=1.0` or remove this parameter as it is also the default value for RandomForestRegressors and ExtraTreesRegressors.\n",
      "  warn(\n",
      "C:\\Users\\VAIO\\anaconda3\\lib\\site-packages\\sklearn\\ensemble\\_forest.py:400: FutureWarning: Criterion 'mse' was deprecated in v1.0 and will be removed in version 1.2. Use `criterion='squared_error'` which is equivalent.\n",
      "  warn(\n",
      "C:\\Users\\VAIO\\anaconda3\\lib\\site-packages\\sklearn\\ensemble\\_forest.py:416: FutureWarning: `max_features='auto'` has been deprecated in 1.1 and will be removed in 1.3. To keep the past behaviour, explicitly set `max_features=1.0` or remove this parameter as it is also the default value for RandomForestRegressors and ExtraTreesRegressors.\n",
      "  warn(\n",
      "C:\\Users\\VAIO\\anaconda3\\lib\\site-packages\\sklearn\\ensemble\\_forest.py:400: FutureWarning: Criterion 'mse' was deprecated in v1.0 and will be removed in version 1.2. Use `criterion='squared_error'` which is equivalent.\n",
      "  warn(\n",
      "C:\\Users\\VAIO\\anaconda3\\lib\\site-packages\\sklearn\\ensemble\\_forest.py:416: FutureWarning: `max_features='auto'` has been deprecated in 1.1 and will be removed in 1.3. To keep the past behaviour, explicitly set `max_features=1.0` or remove this parameter as it is also the default value for RandomForestRegressors and ExtraTreesRegressors.\n",
      "  warn(\n"
     ]
    },
    {
     "name": "stdout",
     "output_type": "stream",
     "text": [
      "Iteration: 2\n"
     ]
    },
    {
     "name": "stderr",
     "output_type": "stream",
     "text": [
      "C:\\Users\\VAIO\\anaconda3\\lib\\site-packages\\sklearn\\ensemble\\_forest.py:400: FutureWarning: Criterion 'mse' was deprecated in v1.0 and will be removed in version 1.2. Use `criterion='squared_error'` which is equivalent.\n",
      "  warn(\n",
      "C:\\Users\\VAIO\\anaconda3\\lib\\site-packages\\sklearn\\ensemble\\_forest.py:416: FutureWarning: `max_features='auto'` has been deprecated in 1.1 and will be removed in 1.3. To keep the past behaviour, explicitly set `max_features=1.0` or remove this parameter as it is also the default value for RandomForestRegressors and ExtraTreesRegressors.\n",
      "  warn(\n",
      "C:\\Users\\VAIO\\anaconda3\\lib\\site-packages\\sklearn\\ensemble\\_forest.py:400: FutureWarning: Criterion 'mse' was deprecated in v1.0 and will be removed in version 1.2. Use `criterion='squared_error'` which is equivalent.\n",
      "  warn(\n",
      "C:\\Users\\VAIO\\anaconda3\\lib\\site-packages\\sklearn\\ensemble\\_forest.py:416: FutureWarning: `max_features='auto'` has been deprecated in 1.1 and will be removed in 1.3. To keep the past behaviour, explicitly set `max_features=1.0` or remove this parameter as it is also the default value for RandomForestRegressors and ExtraTreesRegressors.\n",
      "  warn(\n",
      "C:\\Users\\VAIO\\anaconda3\\lib\\site-packages\\sklearn\\ensemble\\_forest.py:400: FutureWarning: Criterion 'mse' was deprecated in v1.0 and will be removed in version 1.2. Use `criterion='squared_error'` which is equivalent.\n",
      "  warn(\n",
      "C:\\Users\\VAIO\\anaconda3\\lib\\site-packages\\sklearn\\ensemble\\_forest.py:416: FutureWarning: `max_features='auto'` has been deprecated in 1.1 and will be removed in 1.3. To keep the past behaviour, explicitly set `max_features=1.0` or remove this parameter as it is also the default value for RandomForestRegressors and ExtraTreesRegressors.\n",
      "  warn(\n",
      "C:\\Users\\VAIO\\anaconda3\\lib\\site-packages\\sklearn\\ensemble\\_forest.py:400: FutureWarning: Criterion 'mse' was deprecated in v1.0 and will be removed in version 1.2. Use `criterion='squared_error'` which is equivalent.\n",
      "  warn(\n",
      "C:\\Users\\VAIO\\anaconda3\\lib\\site-packages\\sklearn\\ensemble\\_forest.py:416: FutureWarning: `max_features='auto'` has been deprecated in 1.1 and will be removed in 1.3. To keep the past behaviour, explicitly set `max_features=1.0` or remove this parameter as it is also the default value for RandomForestRegressors and ExtraTreesRegressors.\n",
      "  warn(\n",
      "C:\\Users\\VAIO\\anaconda3\\lib\\site-packages\\sklearn\\ensemble\\_forest.py:400: FutureWarning: Criterion 'mse' was deprecated in v1.0 and will be removed in version 1.2. Use `criterion='squared_error'` which is equivalent.\n",
      "  warn(\n",
      "C:\\Users\\VAIO\\anaconda3\\lib\\site-packages\\sklearn\\ensemble\\_forest.py:416: FutureWarning: `max_features='auto'` has been deprecated in 1.1 and will be removed in 1.3. To keep the past behaviour, explicitly set `max_features=1.0` or remove this parameter as it is also the default value for RandomForestRegressors and ExtraTreesRegressors.\n",
      "  warn(\n"
     ]
    },
    {
     "name": "stdout",
     "output_type": "stream",
     "text": [
      "Iteration: 3\n"
     ]
    },
    {
     "data": {
      "text/plain": [
       "array([[0.0000e+00, 8.2000e+01, 2.5621e+02, ..., 1.0000e+00, 7.6700e+02,\n",
       "        1.1355e+04],\n",
       "       [0.0000e+00, 8.9000e+01, 2.6967e+02, ..., 1.0000e+00, 6.0400e+02,\n",
       "        1.1354e+04],\n",
       "       [0.0000e+00, 9.0000e+01, 4.7830e+02, ..., 1.0000e+00, 5.6670e+03,\n",
       "        1.1368e+04],\n",
       "       ...,\n",
       "       [0.0000e+00, 9.6000e+01, 8.5000e+02, ..., 1.0000e+00, 5.0000e+02,\n",
       "        1.1385e+04],\n",
       "       [0.0000e+00, 9.6000e+01, 8.5000e+02, ..., 1.0000e+00, 5.0000e+02,\n",
       "        1.1385e+04],\n",
       "       [0.0000e+00, 8.2000e+01, 8.9900e+02, ..., 1.0000e+00, 4.5770e+03,\n",
       "        1.1360e+04]])"
      ]
     },
     "execution_count": 70,
     "metadata": {},
     "output_type": "execute_result"
    }
   ],
   "source": [
    "#cat_vars=[0,5,6,7,8,10,11,13,14,15,16]\n",
    "#[['listing_price_to_nearest_1000', 'sq_footage', 'pct_tax_deductibl', 'zip_code']]\n",
    "X_imputed = imp_cont.fit_transform(X)\n",
    "X_imputed"
   ]
  },
  {
   "cell_type": "code",
   "execution_count": null,
   "id": "47696a39-85b8-474e-9568-32222ed3f071",
   "metadata": {},
   "outputs": [],
   "source": [
    "X_imputed = pd.DataFrame(X_imputed, columns = X.columns)\n",
    "X_imputed = pd.concat([X_imputed,houseData['sale_price_$']], axis = 1)\n",
    "# decoding features\n",
    "# for variable in features:\n",
    "#     X_imputed[variable] = encoders[variable].inverse_transform(X_imputed[variable].astype(int))\n",
    "X_imputed"
   ]
  },
  {
   "cell_type": "code",
   "execution_count": 72,
   "id": "0cceb18b-4562-444b-b432-296385253684",
   "metadata": {},
   "outputs": [
    {
     "name": "stdout",
     "output_type": "stream",
     "text": [
      "<class 'pandas.core.frame.DataFrame'>\n",
      "RangeIndex: 2230 entries, 0 to 2229\n",
      "Data columns (total 27 columns):\n",
      " #   Column                         Non-Null Count  Dtype  \n",
      "---  ------                         --------------  -----  \n",
      " 0   num_half_bathrooms             2230 non-null   float64\n",
      " 1   walk_score                     2230 non-null   float64\n",
      " 2   listing_price_to_nearest_1000  2230 non-null   float64\n",
      " 3   sq_footage                     2230 non-null   float64\n",
      " 4   pct_tax_deductibl              2230 non-null   float64\n",
      " 5   num_total_rooms                2230 non-null   float64\n",
      " 6   num_full_bathrooms             2230 non-null   float64\n",
      " 7   num_floors_in_building         2230 non-null   float64\n",
      " 8   num_bedrooms                   2230 non-null   float64\n",
      " 9   kitchen_type                   2230 non-null   float64\n",
      " 10  garage_exists                  2230 non-null   float64\n",
      " 11  full_address_or_zip_code       2230 non-null   float64\n",
      " 12  fuel_type                      2230 non-null   float64\n",
      " 13  dogs_allowed                   2230 non-null   float64\n",
      " 14  dining_room_type               2230 non-null   float64\n",
      " 15  date_of_sale                   2230 non-null   float64\n",
      " 16  coop_condo                     2230 non-null   float64\n",
      " 17  community_district_num         2230 non-null   float64\n",
      " 18  cats_allowed                   2230 non-null   float64\n",
      " 19  approx_year_built              2230 non-null   float64\n",
      " 20  Missing_taxes                  2230 non-null   float64\n",
      " 21  Missing_maintenance_cost       2230 non-null   float64\n",
      " 22  Missing_common_charges         2230 non-null   float64\n",
      " 23  Missing_parking_charges        2230 non-null   float64\n",
      " 24  additional_costs_$             2230 non-null   float64\n",
      " 25  zip_code                       2230 non-null   float64\n",
      " 26  sale_price_$                   528 non-null    object \n",
      "dtypes: float64(26), object(1)\n",
      "memory usage: 470.5+ KB\n"
     ]
    }
   ],
   "source": [
    "X_imputed.info()"
   ]
  },
  {
   "cell_type": "code",
   "execution_count": 73,
   "id": "ba6c64a4-7508-4658-a7b9-b7b5d9d3b392",
   "metadata": {},
   "outputs": [],
   "source": [
    "# We can't impute sale price so we're done imputing. We must drop any missing sale_price observations\n",
    "# to attempt to train models on this data\n",
    "\n",
    "houseData5 = X_imputed\n",
    "houseData5 = houseData5.dropna(axis = 0)"
   ]
  },
  {
   "cell_type": "code",
   "execution_count": null,
   "id": "a87d6c90-cfa9-488f-aebc-c2b2b8e414d9",
   "metadata": {},
   "outputs": [],
   "source": [
    "houseData5"
   ]
  },
  {
   "cell_type": "code",
   "execution_count": 75,
   "id": "ae26a8df-72a0-4bc3-b99e-5e145b221738",
   "metadata": {},
   "outputs": [],
   "source": [
    "houseData5.to_csv(r'C:\\Users\\VAIO\\Documents\\houseData5.csv', index = False)\n"
   ]
  },
  {
   "cell_type": "code",
   "execution_count": null,
   "id": "5af9ef9f-34d9-4baa-8646-706d51d801ab",
   "metadata": {},
   "outputs": [],
   "source": []
  }
 ],
 "metadata": {
  "kernelspec": {
   "display_name": "Python 3 (ipykernel)",
   "language": "python",
   "name": "python3"
  },
  "language_info": {
   "codemirror_mode": {
    "name": "ipython",
    "version": 3
   },
   "file_extension": ".py",
   "mimetype": "text/x-python",
   "name": "python",
   "nbconvert_exporter": "python",
   "pygments_lexer": "ipython3",
   "version": "3.9.7"
  }
 },
 "nbformat": 4,
 "nbformat_minor": 5
}
